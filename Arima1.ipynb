{
  "nbformat": 4,
  "nbformat_minor": 0,
  "metadata": {
    "colab": {
      "provenance": [],
      "authorship_tag": "ABX9TyMSJNtm2TgzDIOYXG7WGOLz",
      "include_colab_link": true
    },
    "kernelspec": {
      "name": "python3",
      "display_name": "Python 3"
    },
    "language_info": {
      "name": "python"
    }
  },
  "cells": [
    {
      "cell_type": "markdown",
      "metadata": {
        "id": "view-in-github",
        "colab_type": "text"
      },
      "source": [
        "<a href=\"https://colab.research.google.com/github/aadit11/arima_model_forecast/blob/main/Arima1.ipynb\" target=\"_parent\"><img src=\"https://colab.research.google.com/assets/colab-badge.svg\" alt=\"Open In Colab\"/></a>"
      ]
    },
    {
      "cell_type": "code",
      "execution_count": 70,
      "metadata": {
        "id": "r2L05IvXsO0D"
      },
      "outputs": [],
      "source": [
        "import pandas as pd\n",
        "from statsmodels.tsa.arima.model import ARIMA"
      ]
    },
    {
      "cell_type": "code",
      "source": [
        "data = pd.read_csv('/creditcard.csv')"
      ],
      "metadata": {
        "id": "6E76ncRotSIZ"
      },
      "execution_count": 71,
      "outputs": []
    },
    {
      "cell_type": "code",
      "source": [
        "print(data['Amount'].sum())\n"
      ],
      "metadata": {
        "colab": {
          "base_uri": "https://localhost:8080/"
        },
        "id": "IeVHuPSU9zXC",
        "outputId": "136c622d-c2fc-4720-e177-f0a2039f7197"
      },
      "execution_count": 72,
      "outputs": [
        {
          "output_type": "stream",
          "name": "stdout",
          "text": [
            "17376079.889999997\n"
          ]
        }
      ]
    },
    {
      "cell_type": "code",
      "source": [
        "start_date = pd.to_datetime('2022-11-11')"
      ],
      "metadata": {
        "id": "XlPGqFnpxzMh"
      },
      "execution_count": 73,
      "outputs": []
    },
    {
      "cell_type": "code",
      "source": [
        "end_date = start_date + pd.DateOffset(years=5)"
      ],
      "metadata": {
        "id": "YSPXCkozydh5"
      },
      "execution_count": 74,
      "outputs": []
    },
    {
      "cell_type": "code",
      "source": [
        "date_index = pd.date_range(start=start_date,end=end_date,freq='D')"
      ],
      "metadata": {
        "id": "ZWUAgGYfydlW"
      },
      "execution_count": 75,
      "outputs": []
    },
    {
      "cell_type": "code",
      "source": [
        "data = data.iloc[:len(date_index)]"
      ],
      "metadata": {
        "id": "0m6jzdpZzcFI"
      },
      "execution_count": 76,
      "outputs": []
    },
    {
      "cell_type": "code",
      "source": [
        "data.index = date_index"
      ],
      "metadata": {
        "id": "OE1C83bRzcJ_"
      },
      "execution_count": 77,
      "outputs": []
    },
    {
      "cell_type": "code",
      "source": [
        "model = ARIMA(data['Amount'], order=(0,0,1))\n",
        "model_fit = model.fit()"
      ],
      "metadata": {
        "id": "0YoeIgtEzjgp"
      },
      "execution_count": 78,
      "outputs": []
    },
    {
      "cell_type": "code",
      "source": [
        "forecast = model_fit.forecast(steps=len(data))\n"
      ],
      "metadata": {
        "id": "96cWICgzzjpR"
      },
      "execution_count": 79,
      "outputs": []
    },
    {
      "cell_type": "code",
      "source": [
        "prediction_errors = data['Amount'] - forecast"
      ],
      "metadata": {
        "id": "9uX1pVs70J2i"
      },
      "execution_count": 80,
      "outputs": []
    },
    {
      "cell_type": "code",
      "source": [
        "threshold = 3 * prediction_errors.std()"
      ],
      "metadata": {
        "id": "VKGTRL5A0N2r"
      },
      "execution_count": 81,
      "outputs": []
    },
    {
      "cell_type": "code",
      "source": [
        "\n",
        "anomalies = data[abs(prediction_errors) > threshold]"
      ],
      "metadata": {
        "colab": {
          "base_uri": "https://localhost:8080/"
        },
        "id": "yhXeh2T50RPZ",
        "outputId": "7ab8c8e1-bd90-4548-c0b5-f2f0eb6c1c33"
      },
      "execution_count": 82,
      "outputs": [
        {
          "output_type": "stream",
          "name": "stderr",
          "text": [
            "<ipython-input-82-bffc1d696417>:1: UserWarning: Boolean Series key will be reindexed to match DataFrame index.\n",
            "  anomalies = data[abs(prediction_errors) > threshold]\n"
          ]
        }
      ]
    },
    {
      "cell_type": "code",
      "source": [
        "print(anomalies)"
      ],
      "metadata": {
        "colab": {
          "base_uri": "https://localhost:8080/"
        },
        "id": "iL-bss0D0RWP",
        "outputId": "7a818785-9e7e-48f2-f4a0-f7167d02c269"
      },
      "execution_count": 83,
      "outputs": [
        {
          "output_type": "stream",
          "name": "stdout",
          "text": [
            "Empty DataFrame\n",
            "Columns: [Time, V1, V2, V3, V4, V5, V6, V7, V8, V9, V10, V11, V12, V13, V14, V15, V16, V17, V18, V19, V20, V21, V22, V23, V24, V25, V26, V27, V28, Amount, Class]\n",
            "Index: []\n"
          ]
        }
      ]
    },
    {
      "cell_type": "markdown",
      "source": [],
      "metadata": {
        "id": "otQAKkUb5g7P"
      }
    }
  ]
}